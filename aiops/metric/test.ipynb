{
 "cells": [
  {
   "cell_type": "code",
   "execution_count": 205,
   "id": "4343a28f-9f4f-4854-8df6-04833738189e",
   "metadata": {
    "scrolled": true,
    "tags": []
   },
   "outputs": [],
   "source": [
    "import asyncio\n",
    "import json\n",
    "from typing import List\n",
    "from datetime import datetime, timedelta\n",
    "\n",
    "from grpclib.client import Channel\n",
    "from cortexadmin_pb import CortexAdminStub, SeriesRequest, QueryRangeRequest, QueryRequest, MatcherRequest\n",
    "from betterproto.lib.google.protobuf import Empty\n",
    "\n",
    "default_query_interval = \"1m\"\n",
    "\n",
    "async def get_all_users(service: CortexAdminStub) -> List[str]:\n",
    "  response = await service.all_user_stats(Empty())\n",
    "  return [r.user_id for r in response.items]\n",
    "\n",
    "async def list_all_metric(service: CortexAdminStub, cluster_id: str) -> List[str]:\n",
    "  response = await service.extract_raw_series(MatcherRequest(tenant=cluster_id, match_expr=\".+\"))\n",
    "  res = (json.loads(response.data.decode())[\"data\"])\n",
    "  s = set()\n",
    "  for r in res[\"result\"]:\n",
    "    s.add(r[\"metric\"][\"__name__\"])\n",
    "  return list(s)\n",
    "\n",
    "async def metric_query(service: CortexAdminStub, cluster_id: str, metric_name: str, namespace=\"opni\"):\n",
    "  query = f'sum(rate({metric_name}{{namespace=\"{namespace}\"}}[{default_query_interval}])) by (pod)'\n",
    "  response = await service.query(QueryRequest(tenants=[cluster_id], query=query))\n",
    "  response = json.loads(response.data.decode())[\"data\"]\n",
    "  return response\n",
    "\n",
    "async def metric_queryrange(service: CortexAdminStub, cluster_id: str, metric_name: str, namespace=\"opni\", end_time : datetime = None, time_delta : timedelta= timedelta(minutes=60), step_minute : int = 1):\n",
    "  query_interval = \"2m\"# f\"{step_minute}m\"\n",
    "  query = f'sum(rate({metric_name}{{namespace=\"{namespace}\"}}[{query_interval}])) by (pod)'\n",
    "  if end_time is None:\n",
    "    end_time = datetime.now()\n",
    "  start_time = end_time - time_delta\n",
    "  response = await service.query_range(QueryRangeRequest(tenants=[cluster_id], query=query, start=start_time, end=end_time, step=timedelta(minutes=step_minute)))\n",
    "  response = json.loads(response.data.decode())[\"data\"]\n",
    "  return response"
   ]
  },
  {
   "cell_type": "code",
   "execution_count": 206,
   "id": "e3b29479-b758-4d86-8102-0f65961a23b7",
   "metadata": {},
   "outputs": [
    {
     "name": "stderr",
     "output_type": "stream",
     "text": [
      "Unclosed connection: Channel('localhost', 11090, ..., path=None)\n"
     ]
    }
   ],
   "source": [
    "channel = Channel(host=\"localhost\", port=11090) # url of opni-internal. can port-forward to localhost:11090\n",
    "service = CortexAdminStub(channel)"
   ]
  },
  {
   "cell_type": "code",
   "execution_count": 253,
   "id": "0c12b138-01a4-4eba-bab5-5d42960b16ef",
   "metadata": {
    "tags": []
   },
   "outputs": [
    {
     "data": {
      "text/plain": [
       "'6165ba24-e496-491d-86f2-6eb083f24f0b'"
      ]
     },
     "execution_count": 253,
     "metadata": {},
     "output_type": "execute_result"
    }
   ],
   "source": [
    "user_id = (await get_all_users(service))[0]\n",
    "user_id"
   ]
  },
  {
   "cell_type": "code",
   "execution_count": 254,
   "id": "9807da27-163a-425f-bd69-f770b9e531d6",
   "metadata": {
    "tags": []
   },
   "outputs": [],
   "source": [
    "metrics = await list_all_metric(service, user_id)"
   ]
  },
  {
   "cell_type": "code",
   "execution_count": 211,
   "id": "56ba21a9",
   "metadata": {},
   "outputs": [],
   "source": [
    "import matplotlib.pyplot as plt\n",
    "import numpy as np\n",
    "def plt_plot(ts_data):\n",
    "    # Plot the time series data\n",
    "    plt.plot(ts_data)\n",
    "    plt.title(\"Time Series Data\")\n",
    "    plt.xlabel(\"Time\")\n",
    "    plt.ylabel(\"Value\")\n",
    "    plt.show()\n"
   ]
  },
  {
   "cell_type": "code",
   "execution_count": 269,
   "id": "071b61b0",
   "metadata": {},
   "outputs": [],
   "source": [
    "from scipy.stats import ks_2samp\n",
    "from collections import defaultdict\n",
    "\n",
    "threshold = 0.01\n",
    "\n",
    "def moving_average(data, window_size=2):\n",
    "    data = np.array(data)\n",
    "\n",
    "    weights = np.repeat(1.0, window_size) / window_size\n",
    "    moving_avg = np.convolve(data, weights, 'valid')\n",
    "    return moving_avg\n",
    "\n",
    "def ks_anomaly_detection(metric_values: List[float], cut : int = 50):\n",
    "    # metric_values = moving_average(metric_values)\n",
    "    l1, l2 = metric_values[:cut], metric_values[cut:]\n",
    "    ks_stat, p_value = ks_2samp(l1, l2)\n",
    "    if p_value < threshold:\n",
    "        return True, p_value\n",
    "    else:\n",
    "        return False, p_value\n",
    "\n",
    "def zscore_anomaly_detection(metric_values: List[float]):\n",
    "    mean = np.mean(metric_values)\n",
    "    std_dev = np.std(metric_values)\n",
    "\n",
    "    # set a threshold value\n",
    "    threshold = 5\n",
    "\n",
    "    # identify anomalies using z-score\n",
    "    anomalies = []\n",
    "    for x in metric_values:\n",
    "        z_score = abs((x - mean) / std_dev)\n",
    "        if z_score > threshold:\n",
    "            anomalies.append(x)\n",
    "    return anomalies\n",
    "\n",
    "import time \n",
    "\n",
    "async def pull_metrics_data(end_time, service, user_id:str, metrics, ns=\"opni\"):\n",
    "    res = []\n",
    "    for m in metrics:\n",
    "        q1 = await metric_queryrange(service, user_id, m,end_time=end_time, time_delta=timedelta(minutes=300),step_minute=1, namespace=ns)\n",
    "        res.append(q1)\n",
    "    return res\n",
    "\n"
   ]
  },
  {
   "cell_type": "code",
   "execution_count": 255,
   "id": "f83a006c",
   "metadata": {},
   "outputs": [
    {
     "data": {
      "text/plain": [
       "datetime.datetime(2023, 3, 16, 13, 36, 25, 446728)"
      ]
     },
     "execution_count": 255,
     "metadata": {},
     "output_type": "execute_result"
    }
   ],
   "source": [
    "fixed_ts = datetime.now()\n",
    "fixed_ts"
   ]
  },
  {
   "cell_type": "code",
   "execution_count": 270,
   "id": "475263e9",
   "metadata": {},
   "outputs": [],
   "source": [
    "\n",
    "qs = await pull_metrics_data(fixed_ts, service, user_id, metrics, ns=\"default\")\n"
   ]
  },
  {
   "cell_type": "code",
   "execution_count": 271,
   "id": "b0c0564f",
   "metadata": {},
   "outputs": [
    {
     "name": "stdout",
     "output_type": "stream",
     "text": [
      "32\n",
      "1121\n",
      "defaultdict(<class 'list'>, {'checkoutservice-75c548dc87-zvstd': ['container_cpu_cfs_throttled_seconds_total', 'container_cpu_usage_seconds_total', 'container_network_receive_bytes_total', 'container_network_receive_packets_total', 'container_cpu_cfs_periods_total', 'container_network_transmit_bytes_total', 'container_memory_working_set_bytes', 'container_memory_usage_bytes', 'container_network_transmit_packets_total', 'container_cpu_system_seconds_total', 'container_cpu_cfs_throttled_periods_total', 'container_cpu_user_seconds_total'], 'currencyservice-b9b54f49d-7l8hs': ['container_cpu_usage_seconds_total', 'container_network_transmit_bytes_total', 'container_network_transmit_packets_total', 'container_cpu_system_seconds_total'], 'frontend-856b4cc48-8mlsf': ['container_cpu_usage_seconds_total', 'container_cpu_cfs_periods_total', 'container_cpu_user_seconds_total'], 'productcatalogservice-757df986cd-vc44s': ['container_cpu_usage_seconds_total', 'container_network_receive_bytes_total', 'container_network_receive_packets_total', 'container_cpu_cfs_periods_total', 'container_network_transmit_bytes_total', 'container_network_transmit_packets_total', 'container_cpu_system_seconds_total'], 'shippingservice-57cfb7d794-rxjnf': ['container_cpu_usage_seconds_total'], 'paymentservice-7b7859cf4f-zbbkd': ['container_network_receive_bytes_total', 'container_network_receive_packets_total', 'container_network_transmit_bytes_total', 'container_network_transmit_packets_total'], 'emailservice-76ff84977f-jd54x': ['container_cpu_user_seconds_total']})\n"
     ]
    }
   ],
   "source": [
    "def process_task(d, q1 ,m_name, is_debug = False):\n",
    "    count = 0\n",
    "    total = 0\n",
    "    for r in q1[\"result\"]:\n",
    "        if \"pod\" not in r[\"metric\"]:\n",
    "            # print(r)\n",
    "            continue\n",
    "        pod = r[\"metric\"][\"pod\"]\n",
    "        list0 = r[\"values\"]\n",
    "        values0 = [float(l[1]) for l in list0]\n",
    "        try:\n",
    "        # if True:\n",
    "            is_anomaly, p_value = ks_anomaly_detection(values0[-60:])\n",
    "            total += 1\n",
    "            if is_anomaly:\n",
    "\n",
    "                z_s = zscore_anomaly_detection(values0)\n",
    "                z_s_binary = True if len(z_s) > 0 else False\n",
    "                # if z_s_binary:\n",
    "                count += 1\n",
    "                d[pod].append(m_name)\n",
    "                if is_debug:\n",
    "                # if True:\n",
    "                    print(pod)\n",
    "                    plt_plot(np.array(values0))\n",
    "                    print(z_s_binary)\n",
    "                    print(\"=====================\")\n",
    "        except Exception as e:\n",
    "            pass\n",
    "    s2 = time.time()\n",
    "    return count, total\n",
    "\n",
    "d = defaultdict(list)\n",
    "total_count = 0\n",
    "total = 0\n",
    "for i,q in enumerate(qs):\n",
    "    c, t = process_task(d,q, metrics[i])\n",
    "    total_count += c\n",
    "    total += t\n",
    "print(total_count)\n",
    "print(total)\n",
    "print(d)"
   ]
  },
  {
   "cell_type": "code",
   "execution_count": 274,
   "id": "364a2afa",
   "metadata": {},
   "outputs": [
    {
     "name": "stdout",
     "output_type": "stream",
     "text": [
      "0\n",
      "1121\n",
      "defaultdict(<class 'list'>, {})\n"
     ]
    }
   ],
   "source": [
    "def process_task2(d, q1 ,m_name, is_debug = False):\n",
    "    count = 0\n",
    "    total = 0\n",
    "    for r in q1[\"result\"]:\n",
    "        if \"pod\" not in r[\"metric\"]:\n",
    "            # print(r)\n",
    "            continue\n",
    "        pod = r[\"metric\"][\"pod\"]\n",
    "        list0 = r[\"values\"]\n",
    "        values0 = [float(l[1]) for l in list0]\n",
    "        history, evaluate_window, test_window = values0[:240], values0[-60:], values0[-10:]\n",
    "        try:\n",
    "            is_anomaly, p_value = ks_anomaly_detection(evaluate_window)\n",
    "            total += 1\n",
    "            if is_anomaly:\n",
    "                mean = np.mean(history)\n",
    "                std_dev = np.std(history)\n",
    "                std_multiplier = 3\n",
    "                rule1 = max(test_window) > mean + std_multiplier * std_dev or min(test_window) < mean - std_multiplier * std_dev\n",
    "                rule2 = max(test_window) > max(history) or min(test_window) < min(history)\n",
    "                rule3 = np.mean(test_window) > mean + std_multiplier * std_dev or np.mean(test_window) < mean - std_multiplier * std_dev\n",
    "                _, rule4 = ks_anomaly_detection(values0, cut=150)\n",
    "                if rule1 and rule3:# and rule3 and rule4: # rule1 and rule2\n",
    "                    # z_s = zscore_anomaly_detection(values0)\n",
    "                    # z_s_binary = True if len(z_s) > 0 else False\n",
    "                    # if z_s_binary:\n",
    "                    count += 1\n",
    "                    d[pod].append(m_name)\n",
    "                    # if is_debug:\n",
    "                    if True:\n",
    "                        print(m_name)\n",
    "                        print(pod)\n",
    "                        plt_plot(np.array(values0))\n",
    "                        print(\"=====================\")\n",
    "        except Exception as e:\n",
    "            pass\n",
    "    s2 = time.time()\n",
    "    return count, total\n",
    "\n",
    "d = defaultdict(list)\n",
    "total_count = 0\n",
    "total = 0\n",
    "for i,q in enumerate(qs):\n",
    "    c, t = process_task2(d,q, metrics[i])\n",
    "    total_count += c\n",
    "    total += t\n",
    "print(total_count)\n",
    "print(total)\n",
    "print(d)"
   ]
  },
  {
   "cell_type": "code",
   "execution_count": null,
   "id": "3decd1a5",
   "metadata": {},
   "outputs": [],
   "source": []
  }
 ],
 "metadata": {
  "kernelspec": {
   "display_name": "py38metric",
   "language": "python",
   "name": "python3"
  },
  "language_info": {
   "codemirror_mode": {
    "name": "ipython",
    "version": 3
   },
   "file_extension": ".py",
   "mimetype": "text/x-python",
   "name": "python",
   "nbconvert_exporter": "python",
   "pygments_lexer": "ipython3",
   "version": "3.8.6"
  },
  "vscode": {
   "interpreter": {
    "hash": "12743c56a1c6fb9d573a46d6810fe43abfc03eb020d53abd820a2eab96377291"
   }
  }
 },
 "nbformat": 4,
 "nbformat_minor": 5
}
