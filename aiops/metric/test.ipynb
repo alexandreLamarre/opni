{
 "cells": [
  {
   "cell_type": "code",
   "execution_count": 44,
   "id": "4343a28f-9f4f-4854-8df6-04833738189e",
   "metadata": {
    "scrolled": true,
    "tags": []
   },
   "outputs": [],
   "source": [
    "import asyncio\n",
    "import json\n",
    "from typing import List\n",
    "from datetime import datetime, timedelta\n",
    "\n",
    "from grpclib.client import Channel\n",
    "from cortexadmin_pb import CortexAdminStub, SeriesRequest, QueryRangeRequest, QueryRequest, MatcherRequest\n",
    "from betterproto.lib.google.protobuf import Empty\n",
    "\n",
    "default_query_interval = \"1m\"\n",
    "\n",
    "async def get_all_users(service: CortexAdminStub) -> List[str]:\n",
    "  response = await service.all_user_stats(Empty())\n",
    "  return [r.user_id for r in response.items]\n",
    "\n",
    "async def list_all_metric(service: CortexAdminStub, cluster_id: str) -> List[str]:\n",
    "  response = await service.extract_raw_series(MatcherRequest(tenant=cluster_id, match_expr=\".+\"))\n",
    "  res = (json.loads(response.data.decode())[\"data\"])\n",
    "  s = set()\n",
    "  for r in res[\"result\"]:\n",
    "    s.add(r[\"metric\"][\"__name__\"])\n",
    "  return list(s)\n",
    "\n",
    "async def metric_query(service: CortexAdminStub, cluster_id: str, metric_name: str, namespace=\"opni\"):\n",
    "  query = f'sum(rate({metric_name}{{namespace=\"{namespace}\"}}[{default_query_interval}])) by (pod)'\n",
    "  response = await service.query(QueryRequest(tenants=[cluster_id], query=query))\n",
    "  response = json.loads(response.data.decode())[\"data\"]\n",
    "  return response\n",
    "\n",
    "async def metric_queryrange(service: CortexAdminStub, cluster_id: str, metric_name: str, namespace=\"opni\", end_time : datetime = None, time_delta : timedelta= timedelta(minutes=60), step_minute : int = 1):\n",
    "  query = f'sum(rate({metric_name}{{namespace=\"{namespace}\"}}[{default_query_interval}])) by (pod)'\n",
    "  if end_time is None:\n",
    "    end_time = datetime.now()\n",
    "  start_time = end_time - time_delta\n",
    "  response = await service.query_range(QueryRangeRequest(tenants=[cluster_id], query=query, start=start_time, end=end_time, step=timedelta(minutes=step_minute)))\n",
    "  response = json.loads(response.data.decode())[\"data\"]\n",
    "  return response"
   ]
  },
  {
   "cell_type": "code",
   "execution_count": 39,
   "id": "e3b29479-b758-4d86-8102-0f65961a23b7",
   "metadata": {},
   "outputs": [],
   "source": [
    "channel = Channel(host=\"localhost\", port=11090) # url of opni-internal. can port-forward to localhost:11090\n",
    "service = CortexAdminStub(channel)"
   ]
  },
  {
   "cell_type": "code",
   "execution_count": 40,
   "id": "0c12b138-01a4-4eba-bab5-5d42960b16ef",
   "metadata": {
    "tags": []
   },
   "outputs": [
    {
     "data": {
      "text/plain": [
       "'6165ba24-e496-491d-86f2-6eb083f24f0b'"
      ]
     },
     "execution_count": 40,
     "metadata": {},
     "output_type": "execute_result"
    }
   ],
   "source": [
    "user_id = (await get_all_users(service))[0]\n",
    "user_id"
   ]
  },
  {
   "cell_type": "code",
   "execution_count": 36,
   "id": "9807da27-163a-425f-bd69-f770b9e531d6",
   "metadata": {
    "tags": []
   },
   "outputs": [],
   "source": [
    "metrics = await list_all_metric(service, user_id)"
   ]
  },
  {
   "cell_type": "code",
   "execution_count": 45,
   "id": "b89ba60e-3aef-4bf0-bdeb-f1433eb0f9cb",
   "metadata": {
    "scrolled": true,
    "tags": []
   },
   "outputs": [
    {
     "name": "stdout",
     "output_type": "stream",
     "text": [
      "sum(rate(container_cpu_usage_seconds_total{namespace=\"opni\"}[1m])) by (pod)\n"
     ]
    },
    {
     "data": {
      "text/plain": [
       "{'resultType': 'vector',\n",
       " 'result': [{'metric': {'pod': 'opni-prometheus-node-exporter-6zq4r'},\n",
       "   'value': [1678496521.048, '0.0027759730305161965']},\n",
       "  {'metric': {'pod': 'etcd-0'},\n",
       "   'value': [1678496521.048, '0.06163341022026947']},\n",
       "  {'metric': {'pod': 'opni-kube-prometheus-stack-operator-b6bd94cb-vn2f7'},\n",
       "   'value': [1678496521.048, '0.00043594295307532654']},\n",
       "  {'metric': {'pod': 'opni-prometheus-node-exporter-ljdr6'},\n",
       "   'value': [1678496521.048, '0.0030721393809542497']},\n",
       "  {'metric': {'pod': 'opni-manager-5f9b874fb8-75xmf'},\n",
       "   'value': [1678496521.048, '0.006987418350081357']},\n",
       "  {'metric': {'pod': 'opni-agent-0'},\n",
       "   'value': [1678496521.048, '0.0544418983978075']},\n",
       "  {'metric': {'pod': 'opni-gateway-799dfbf9cf-txnfh'},\n",
       "   'value': [1678496521.048, '0.08390518893702333']},\n",
       "  {'metric': {'pod': 'cortex-all-0'},\n",
       "   'value': [1678496521.048, '0.597503780990446']},\n",
       "  {'metric': {'pod': 'opni-prometheus-node-exporter-wx5gx'},\n",
       "   'value': [1678496521.048, '0.0014154184087185738']},\n",
       "  {'metric': {'pod': 'grafana-854486bd88-mtdrd'},\n",
       "   'value': [1678496521.048, '0.0011615923670230768']},\n",
       "  {'metric': {'pod': 'opni-nats-2'},\n",
       "   'value': [1678496521.048, '0.0025880184636852717']},\n",
       "  {'metric': {'pod': 'prometheus-opni-prometheus-agent-0'},\n",
       "   'value': [1678496521.048, '0']},\n",
       "  {'metric': {'pod': 'opni-nats-0'},\n",
       "   'value': [1678496521.048, '0.003351952850817177']},\n",
       "  {'metric': {'pod': 'my-pod'}, 'value': [1678496521.048, '0']}]}"
      ]
     },
     "execution_count": 45,
     "metadata": {},
     "output_type": "execute_result"
    }
   ],
   "source": [
    "m_name = \"container_cpu_usage_seconds_total\"\n",
    "q1 = await metric_query(service, user_id, m_name)\n",
    "q1"
   ]
  },
  {
   "cell_type": "code",
   "execution_count": null,
   "id": "16d653d3-67e1-44df-98c7-045e1ac111bc",
   "metadata": {},
   "outputs": [],
   "source": []
  }
 ],
 "metadata": {
  "kernelspec": {
   "display_name": "Python 3 (ipykernel)",
   "language": "python",
   "name": "python3"
  },
  "language_info": {
   "codemirror_mode": {
    "name": "ipython",
    "version": 3
   },
   "file_extension": ".py",
   "mimetype": "text/x-python",
   "name": "python",
   "nbconvert_exporter": "python",
   "pygments_lexer": "ipython3",
   "version": "3.8.6"
  }
 },
 "nbformat": 4,
 "nbformat_minor": 5
}
